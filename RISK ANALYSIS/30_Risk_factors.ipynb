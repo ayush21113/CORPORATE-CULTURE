{
  "metadata": {
    "kernelspec": {
      "language": "python",
      "display_name": "Python 3",
      "name": "python3"
    },
    "language_info": {
      "name": "python",
      "version": "3.10.14",
      "mimetype": "text/x-python",
      "codemirror_mode": {
        "name": "ipython",
        "version": 3
      },
      "pygments_lexer": "ipython3",
      "nbconvert_exporter": "python",
      "file_extension": ".py"
    },
    "kaggle": {
      "accelerator": "none",
      "dataSources": [
        {
          "sourceId": 10201685,
          "sourceType": "datasetVersion",
          "datasetId": 6304237
        }
      ],
      "dockerImageVersionId": 30804,
      "isInternetEnabled": true,
      "language": "python",
      "sourceType": "notebook",
      "isGpuEnabled": false
    },
    "colab": {
      "provenance": []
    }
  },
  "nbformat_minor": 0,
  "nbformat": 4,
  "cells": [
    {
      "cell_type": "markdown",
      "source": [
        "# Importing Necessary Libraries"
      ],
      "metadata": {
        "id": "O38Ai76Ii-zW"
      }
    },
    {
      "cell_type": "code",
      "source": [
        "!pip install nltk\n",
        "!pip install wordlist"
      ],
      "metadata": {
        "trusted": true,
        "id": "nkggdmwUhoI4"
      },
      "outputs": [],
      "execution_count": null
    },
    {
      "cell_type": "code",
      "source": [
        "import os\n",
        "import pandas as pd\n",
        "import re\n",
        "import nltk\n",
        "from sklearn.feature_extraction.text import TfidfVectorizer\n",
        "import string\n",
        "import matplotlib.pyplot as plt\n",
        "from nltk.corpus import stopwords\n",
        "nltk.download('stopwords')\n"
      ],
      "metadata": {
        "trusted": true,
        "id": "Pb3lFJxIhoI5"
      },
      "outputs": [],
      "execution_count": null
    },
    {
      "cell_type": "markdown",
      "source": [
        "# Defining The Keyword Dictionary"
      ],
      "metadata": {
        "id": "5IVW3rvPjCdY"
      }
    },
    {
      "cell_type": "code",
      "source": [
        "word_lists = {\n",
        "    \"Catastrophe\": [\n",
        "        'operation', 'event', 'disaster', 'business', 'natural', 'result',\n",
        "        'facility', 'loss', 'damage', 'disruption', 'system', 'weather',\n",
        "        'failure', 'condition', 'including', 'adversely', 'terrorist',\n",
        "        'affect', 'attack', 'risk', 'act', 'interruption', 'earthquake',\n",
        "        'impact', 'adverse', 'hurricane', 'significant', 'fire',\n",
        "        'financial', 'company'\n",
        "    ],\n",
        "    \"Corporate_Governance\": [\n",
        "        'stock', 'stockholder', 'director', 'share', 'common', 'board',\n",
        "        'provision', 'control', 'shareholder', 'right', 'change', 'company',\n",
        "        'law', 'voting', 'preferred', 'incorporation', 'bylaw', 'certain',\n",
        "        'prevent', 'class', 'approval', 'outstanding', 'interest',\n",
        "        'transaction', 'price', 'business', 'vote', 'ownership', 'holder',\n",
        "        'certificate'\n",
        "    ],\n",
        "    \"Country\": [\n",
        "        'rate', 'currency', 'interest', 'foreign', 'risk', 'exchange', 'result',\n",
        "        'dollar', 'fluctuation', 'change', 'financial', 'operation', 'market',\n",
        "        'value', 'increase', 'affect', 'exposure', 'income', 'asset', 'company',\n",
        "        'impact', 'investment', 'revenue', 'net', 'hedging', 'adversely',\n",
        "        'hedge', 'contract', 'price', 'loss'\n",
        "    ],\n",
        "    \"Customer_Concentration\": [\n",
        "        'sale', 'revenue', 'customer', 'approximately', 'company', 'product',\n",
        "        'year', 'agreement', 'united', 'state', 'service', 'operation',\n",
        "        'business', 'significant', 'portion', 'fiscal', 'market', 'facility',\n",
        "        'net', 'store', 'december', 'total', 'international', 'contract',\n",
        "        'outside', 'including', 'number', 'accounted', 'located', 'ended'\n",
        "    ],\n",
        "    \"Economic_Conditions\": [\n",
        "        'economic', 'business', 'foreign', 'risk', 'operation', 'condition',\n",
        "        'market', 'change', 'including', 'country', 'political', 'international',\n",
        "        'subject', 'state', 'law', 'product', 'result', 'financial', 'rate', 'united',\n",
        "        'regulation', 'factor', 'currency', 'control', 'cost', 'tax', 'affect',\n",
        "        'government', 'adversely', 'trade'\n",
        "    ],\n",
        "    \"Energy_Sector\": [\n",
        "        'gas', 'price', 'natural', 'oil', 'cost', 'operation', 'energy', 'result',\n",
        "        'production', 'market', 'demand', 'power', 'company', 'fuel', 'customer',\n",
        "        'drilling', 'including', 'increase', 'facility', 'service', 'regulation',\n",
        "        'emission', 'change', 'coal', 'risk', 'supply', 'condition', 'new',\n",
        "        'business', 'future'\n",
        "    ],\n",
        "    \"Financing_I\": [\n",
        "        'company', 'financial', 'insurance', 'investment', 'market', 'risk',\n",
        "        'credit', 'capital', 'rating', 'bank', 'business', 'security', 'fund',\n",
        "        'institution', 'including', 'asset', 'certain', 'service', 'subsidiary',\n",
        "        'result', 'loss', 'regulation', 'subject', 'rate', 'regulatory',\n",
        "        'requirement', 'federal', 'ability', 'state', 'liquidity'\n",
        "    ],\n",
        "    \"Financing_II\": [\n",
        "        'credit', 'facility', 'debt', 'note', 'agreement', 'million', 'senior',\n",
        "        'indebtedness', 'covenant', 'certain', 'default', 'interest', 'asset',\n",
        "        'amount', 'subsidiary', 'outstanding', 'financial', 'ability', 'payment',\n",
        "        'secured', 'december', 'event', 'loan', 'term', 'company', 'stock',\n",
        "        'revolving', 'obligation', 'including', 'make'\n",
        "    ],\n",
        "    \"Financing_III\": [\n",
        "        'capital', 'debt', 'ability', 'cash', 'business', 'credit', 'financing',\n",
        "        'additional', 'operation', 'future', 'fund', 'financial', 'market',\n",
        "        'indebtedness', 'term', 'condition', 'flow', 'obligation', 'available',\n",
        "        'affect', 'obtain', 'result', 'adversely', 'make', 'company', 'interest',\n",
        "        'need', 'acquisition', 'able', 'service'\n",
        "    ],\n",
        "    \"Growth_and_Restructuring\": [\n",
        "        'business', 'acquisition', 'operation', 'company', 'acquired', 'risk',\n",
        "        'result', 'cost', 'management', 'financial', 'future', 'growth',\n",
        "        'including', 'product', 'benefit', 'investment', 'new', 'significant',\n",
        "        'successfully', 'strategy', 'system', 'difficulty', 'anticipated',\n",
        "        'strategic', 'venture', 'resource', 'technology', 'time', 'integration',\n",
        "        'able'\n",
        "    ],\n",
        "\n",
        "    \"Healthcare_Spending\": [\n",
        "        \"program\", \"state\", \"service\", \"health\", \"government\", \"federal\",\n",
        "        \"care\", \"contract\", \"medicare\", \"payment\", \"law\", \"healthcare\",\n",
        "        \"regulation\", \"cost\", \"act\", \"change\", \"including\", \"provider\",\n",
        "        \"result\", \"business\", \"certain\", \"medicaid\", \"reimbursement\",\n",
        "        \"rate\", \"revenue\", \"patient\", \"hospital\", \"year\", \"subject\",\n",
        "        \"insurance\"\n",
        "    ],\n",
        "    \"Human_Capital\": [\n",
        "        \"personnel\", \"business\", \"retain\", \"ability\", \"key\", \"employee\",\n",
        "        \"attract\", \"management\", \"qualified\", \"success\", \"service\",\n",
        "        \"new\", \"executive\", \"operation\", \"depends\", \"future\", \"company\",\n",
        "        \"adversely\", \"officer\", \"growth\", \"result\", \"senior\", \"loss\",\n",
        "        \"able\", \"upon\", \"sale\", \"unable\", \"store\", \"highly\", \"competition\"\n",
        "    ],\n",
        "    \"Incomplete_Contracts\": [\n",
        "        \"agreement\", \"company\", \"director\", \"certain\", \"court\", \"officer\",\n",
        "        \"action\", \"state\", \"stock\", \"board\", \"filed\", \"law\", \"executive\",\n",
        "        \"subject\", \"interest\", \"merger\", \"business\", \"including\", \"share\",\n",
        "        \"inc\", \"party\", \"shareholder\", \"district\", \"right\", \"claim\",\n",
        "        \"security\", \"term\", \"transaction\", \"addition\", \"time\"\n",
        "    ],\n",
        "    \"Information_Systems\": [\n",
        "        \"system\", \"information\", \"business\", \"security\", \"customer\",\n",
        "        \"service\", \"data\", \"result\", \"operation\", \"breach\", \"technology\",\n",
        "        \"failure\", \"party\", \"loss\", \"financial\", \"risk\", \"reputation\",\n",
        "        \"including\", \"third\", \"company\", \"network\", \"disruption\",\n",
        "        \"damage\", \"product\", \"computer\", \"significant\", \"ability\",\n",
        "        \"employee\", \"client\", \"adversely\"\n",
        "    ],\n",
        "    \"Intangible_Assets\": [\n",
        "        \"asset\", \"value\", \"impairment\", \"result\", \"goodwill\", \"future\",\n",
        "        \"intangible\", \"charge\", \"estimate\", \"fair\", \"million\", \"loss\",\n",
        "        \"change\", \"financial\", \"net\", \"cost\", \"significant\", \"amount\",\n",
        "        \"contract\", \"operation\", \"investment\", \"period\", \"cash\",\n",
        "        \"carrying\", \"assumption\", \"market\", \"required\", \"company\",\n",
        "        \"revenue\", \"december\"\n",
        "    ],\n",
        "    \"Intellectual_Property\": [\n",
        "        \"right\", \"property\", \"intellectual\", \"patent\", \"product\",\n",
        "        \"technology\", \"party\", \"protect\", \"proprietary\", \"license\",\n",
        "        \"third\", \"claim\", \"trademark\", \"business\", \"infringement\",\n",
        "        \"use\", \"agreement\", \"trade\", \"others\", \"litigation\", \"secret\",\n",
        "        \"protection\", \"company\", \"result\", \"law\", \"certain\", \"obtain\",\n",
        "        \"future\", \"service\", \"addition\"\n",
        "    ],\n",
        "    \"Product_Approval\": [\n",
        "        \"product\", \"approval\", \"fda\", \"regulatory\", \"clinical\", \"market\",\n",
        "        \"development\", \"drug\", \"trial\", \"sale\", \"result\", \"new\",\n",
        "        \"including\", \"candidate\", \"company\", \"marketing\", \"manufacturing\",\n",
        "        \"use\", \"device\", \"regulation\", \"subject\", \"medical\", \"state\",\n",
        "        \"process\", \"obtain\", \"certain\", \"patient\", \"pharmaceutical\",\n",
        "        \"requirement\", \"business\"\n",
        "    ],\n",
        "    \"Product_Defects\": [\n",
        "        \"claim\", \"insurance\", \"liability\", \"result\", \"business\",\n",
        "        \"litigation\", \"coverage\", \"product\", \"cost\", \"loss\", \"financial\",\n",
        "        \"operation\", \"damage\", \"significant\", \"future\", \"risk\", \"time\",\n",
        "        \"company\", \"legal\", \"subject\", \"proceeding\", \"amount\",\n",
        "        \"adverse\", \"management\", \"material\", \"action\", \"substantial\",\n",
        "        \"matter\", \"lawsuit\", \"property\"\n",
        "    ],\n",
        "    \"Product_Innovation\": [\n",
        "        \"product\", \"new\", \"service\", \"market\", \"customer\", \"technology\",\n",
        "        \"competitor\", \"business\", \"company\", \"ability\", \"competitive\",\n",
        "        \"industry\", \"develop\", \"development\", \"resource\", \"change\",\n",
        "        \"sale\", \"result\", \"financial\", \"compete\", \"revenue\", \"existing\",\n",
        "        \"competition\", \"system\", \"marketing\", \"future\", \"continue\",\n",
        "        \"greater\", \"software\", \"including\"\n",
        "    ],\n",
        "    \"Real_Estate\": [\n",
        "        \"loan\", \"property\", \"real\", \"estate\", \"loss\", \"market\", \"mortgage\",\n",
        "        \"condition\", \"result\", \"rate\", \"lease\", \"increase\", \"risk\",\n",
        "        \"value\", \"tenant\", \"interest\", \"economic\", \"ability\", \"adversely\",\n",
        "        \"credit\", \"portfolio\", \"cost\", \"business\", \"affect\", \"financial\",\n",
        "        \"investment\", \"company\", \"home\", \"including\", \"change\"\n",
        "    ],\n",
        "    \"Regulatory_Change\": [\n",
        "        \"regulation\", \"law\", \"business\", \"result\", \"operation\", \"subject\",\n",
        "        \"change\", \"regulatory\", \"cost\", \"comply\", \"compliance\",\n",
        "        \"state\", \"financial\", \"requirement\", \"government\", \"affect\",\n",
        "        \"future\", \"adversely\", \"penalty\", \"new\", \"federal\", \"company\",\n",
        "        \"adverse\", \"effect\", \"impact\", \"including\", \"applicable\",\n",
        "        \"environmental\", \"fine\", \"failure\"\n",
        "    ],\n",
        "    \"Regulatory_Compliance\": [\n",
        "        \"law\", \"regulation\", \"environmental\", \"state\", \"subject\",\n",
        "        \"property\", \"hazardous\", \"federal\", \"liability\", \"operation\",\n",
        "        \"product\", \"material\", \"cost\", \"substance\", \"including\",\n",
        "        \"safety\", \"local\", \"certain\", \"waste\", \"act\", \"use\", \"disposal\",\n",
        "        \"health\", \"facility\", \"company\", \"damage\", \"requirement\",\n",
        "        \"various\", \"site\", \"contamination\"\n",
        "    ],\n",
        "    \"Reporting_Accuracy\": [\n",
        "        \"risk\", \"statement\", \"result\", \"financial\", \"factor\", \"report\",\n",
        "        \"forward\", \"looking\", \"information\", \"business\", \"operation\",\n",
        "        \"uncertainty\", \"see\", \"condition\", \"item\", \"form\", \"discussion\",\n",
        "        \"future\", \"note\", \"management\", \"annual\", \"company\",\n",
        "        \"described\", \"materially\", \"additional\", \"following\", \"actual\",\n",
        "        \"currently\", \"consolidated\", \"analysis\"\n",
        "    ],\n",
        "\n",
        "\n",
        "    \"Reporting_compliance\": [\n",
        "        \"financial\", \"control\", \"internal\", \"reporting\", \"accounting\", \"result\", \"statement\",\n",
        "        \"material\", \"report\", \"company\", \"standard\", \"management\", \"change\", \"effective\", \"weakness\",\n",
        "        \"system\", \"procedure\", \"act\", \"required\", \"public\", \"stock\", \"future\", \"business\",\n",
        "        \"sarbanesoxley\", \"operation\", \"section\", \"sec\", \"disclosure\", \"maintain\", \"requirement\"\n",
        "    ],\n",
        "\n",
        "\n",
        "    \"Supply_Chain\": [\n",
        "        \"product\", \"customer\", \"cost\", \"material\", \"supplier\", \"result\", \"supply\", \"manufacturing\",\n",
        "        \"component\", \"contract\", \"price\", \"increase\", \"raw\", \"delay\", \"production\", \"business\",\n",
        "        \"ability\", \"time\", \"order\", \"demand\", \"service\", \"purchase\", \"company\", \"manufacturer\",\n",
        "        \"certain\", \"operation\", \"adversely\", \"significant\", \"new\", \"sale\"\n",
        "    ],\n",
        "\n",
        "    \"Tax_Uncertainty\": [\n",
        "        \"tax\", \"income\", \"reit\", \"change\", \"rate\", \"subject\", \"federal\", \"taxable\", \"law\", \"would\",\n",
        "        \"result\", \"certain\", \"state\", \"distribution\", \"year\", \"asset\", \"liability\", \"company\", \"future\",\n",
        "        \"jurisdiction\", \"qualify\", \"net\", \"foreign\", \"amount\", \"provision\", \"transaction\", \"revenue\",\n",
        "        \"authority\", \"dividend\", \"effective\"],\n",
        "\n",
        "\n",
        "    \"Volatile_Costs\": [\n",
        "        \"plan\", \"cost\", \"rate\", \"pension\", \"benefit\", \"increase\", \"asset\", \"change\", \"result\", \"future\",\n",
        "        \"employee\", \"company\", \"expense\", \"obligation\", \"million\", \"return\", \"assumption\", \"funding\",\n",
        "        \"liability\", \"contribution\", \"requirement\", \"significant\", \"market\", \"including\", \"required\",\n",
        "        \"interest\", \"operation\", \"certain\", \"year\", \"financial\"\n",
        "    ],\n",
        "    \"Volatile_Net_Cash_Flows\": [\n",
        "        \"result\", \"financial\", \"operation\", \"condition\", \"business\", \"adverse\", \"adversely\", \"effect\",\n",
        "        \"material\", \"affect\", \"cash\", \"impact\", \"flow\", \"materially\", \"operating\", \"customer\",\n",
        "        \"affected\", \"company\", \"market\", \"significant\", \"product\", \"risk\", \"loss\", \"future\",\n",
        "        \"cost\", \"failure\", \"economic\", \"position\", \"revenue\", \"would\"\n",
        "    ],\n",
        "\n",
        "    \"Volatile_Revenue\": [\n",
        "        \"result\", \"product\", \"customer\", \"sale\", \"revenue\", \"price\", \"market\", \"operating\", \"business\",\n",
        "        \"demand\", \"cost\", \"industry\", \"adversely\", \"increase\", \"condition\", \"economic\", \"change\",\n",
        "        \"affect\", \"margin\", \"future\", \"quarter\", \"impact\", \"significant\", \"consumer\", \"service\", \"level\",\n",
        "        \"factor\", \"decline\", \"period\", \"operation\"\n",
        "    ],\n",
        "\n",
        "    \"Volatile_Stock_Price\": [\n",
        "        \"stock\", \"common\", \"price\", \"market\", \"share\", \"security\", \"result\", \"company\", \"future\",\n",
        "        \"operating\", \"trading\", \"sale\", \"decline\", \"factor\", \"fluctuation\", \"change\", \"affect\",\n",
        "        \"financial\", \"analyst\", \"equity\", \"adversely\", \"dividend\", \"condition\", \"investor\",\n",
        "        \"performance\", \"significant\", \"stockholder\", \"volatility\", \"value\", \"investment\"]\n",
        "\n",
        "\n",
        "\n",
        "}"
      ],
      "metadata": {
        "trusted": true,
        "id": "inOXj1SNhoI7"
      },
      "outputs": [],
      "execution_count": null
    },
    {
      "cell_type": "markdown",
      "source": [
        "# Preprocessing function to clean the text"
      ],
      "metadata": {
        "id": "lBz9sshbibjS"
      }
    },
    {
      "cell_type": "code",
      "source": [
        "\n",
        "def preprocess_text(text):\n",
        "    if not isinstance(text, str):\n",
        "        return \"\"\n",
        "    text = text.lower()\n",
        "    text = text.translate(str.maketrans('', '', string.punctuation))\n",
        "    stop_words = set(stopwords.words('english'))\n",
        "    words = text.split()\n",
        "    words = [word for word in words if word not in stop_words]\n",
        "    return ' '.join(words)"
      ],
      "metadata": {
        "id": "txAvXeQPiaYu"
      },
      "execution_count": null,
      "outputs": []
    },
    {
      "cell_type": "markdown",
      "source": [
        "# Function to calculate TF-IDF scores for a given text"
      ],
      "metadata": {
        "id": "i7ne_BbmifVy"
      }
    },
    {
      "cell_type": "code",
      "source": [
        "\n",
        "def calculate_tfidf(text, word_lists):\n",
        "    all_words = list(set([word for sublist in word_lists.values() for word in sublist]))\n",
        "    vectorizer = TfidfVectorizer(vocabulary=all_words)\n",
        "    tfidf_matrix = vectorizer.fit_transform([text])\n",
        "    tfidf_scores = pd.DataFrame(tfidf_matrix.T.toarray(), index=vectorizer.get_feature_names_out(), columns=[\"tfidf\"])\n",
        "    return tfidf_scores"
      ],
      "metadata": {
        "id": "Xi1ociUVieLM"
      },
      "execution_count": null,
      "outputs": []
    },
    {
      "cell_type": "markdown",
      "source": [
        "# Function to process each yearwise data folder and compute TF-IDF values"
      ],
      "metadata": {
        "id": "JQS3nMWwimNF"
      }
    },
    {
      "cell_type": "code",
      "source": [
        "\n",
        "def process_yearwise_data(dataset_path, word_lists):\n",
        "    final_results = []\n",
        "    for folder in os.listdir(dataset_path):\n",
        "        full_path = os.path.join(dataset_path, folder)\n",
        "        if os.path.isdir(full_path) and 'combined_yearly_data' in folder:\n",
        "            print(f\"Processing folder: {folder}\")\n",
        "            for file in os.listdir(full_path):\n",
        "                if file.endswith(\".csv\"):\n",
        "                    file_path = os.path.join(full_path, file)\n",
        "                    year_match = re.match(r'(\\d{4})\\.csv', file)\n",
        "                    if year_match:\n",
        "                        year = year_match.group(1)\n",
        "                    else:\n",
        "                        print(f\"Year not found in filename: {file}\")\n",
        "                        continue\n",
        "                    try:\n",
        "                        df = pd.read_csv(file_path)\n",
        "                        print(f\"Processing file: {file_path}\")\n",
        "                        for index, row in df.iterrows():\n",
        "                            transcript = row['Extracted 1A']\n",
        "                            ticker = row['Ticker']\n",
        "                            cleaned_transcript = preprocess_text(transcript)\n",
        "                            tfidf_scores = calculate_tfidf(cleaned_transcript, word_lists)\n",
        "                            row_result = {'company': ticker, 'year': year, 'transcript': transcript}\n",
        "                            for parameter in word_lists.keys():\n",
        "                                combined_tfidf = tfidf_scores.loc[word_lists[parameter], 'tfidf'].sum()\n",
        "                                row_result[parameter] = combined_tfidf\n",
        "                            final_results.append(row_result)\n",
        "                    except Exception as e:\n",
        "                        print(f\"Error processing file {file_path}: {e}\")\n",
        "    if final_results:\n",
        "        final_df = pd.DataFrame(final_results)\n",
        "        return final_df\n",
        "    else:\n",
        "        print(\"No data processed.\")\n",
        "        return pd.DataFrame()"
      ],
      "metadata": {
        "id": "l2HDwzzSikdP"
      },
      "execution_count": null,
      "outputs": []
    },
    {
      "cell_type": "markdown",
      "source": [
        "# Function to Plot the changes in cultural values over time"
      ],
      "metadata": {
        "id": "P8l2juyTiqaV"
      }
    },
    {
      "cell_type": "code",
      "source": [
        "\n",
        "def plot_cultural_values_change(final_df):\n",
        "    cultural_values_columns = list(word_lists.keys())\n",
        "    mean_cultural_values = final_df.groupby('year')[cultural_values_columns].mean()\n",
        "    plt.figure(figsize=(12, 8))\n",
        "    for value_column in cultural_values_columns:\n",
        "        plt.plot(mean_cultural_values.index, mean_cultural_values[value_column], label=value_column, marker='o')\n",
        "    plt.title(\"Change in Risk Types Per Year\", fontsize=14)\n",
        "    plt.xlabel(\"Year\", fontsize=12)\n",
        "    plt.ylabel(\"Mean Risk Value\", fontsize=12)\n",
        "    plt.xticks(rotation=45)\n",
        "    plt.legend(title=\"Risk Types\")\n",
        "    plt.tight_layout()\n",
        "    plt.show()"
      ],
      "metadata": {
        "id": "x8_bgMh8ipZi"
      },
      "execution_count": null,
      "outputs": []
    },
    {
      "cell_type": "code",
      "source": [
        "if __name__ == \"__main__\":\n",
        "    dataset_path = \"/kaggle/input/item-1a/ITEM 1A RISK FACTORS\"\n",
        "    final_df = process_yearwise_data(dataset_path, word_lists)\n",
        "    if not final_df.empty:\n",
        "        print(f\"Processed {final_df.shape[0]} rows successfully.\")\n",
        "        plot_cultural_values_change(final_df)\n"
      ],
      "metadata": {
        "trusted": true,
        "id": "tfEaw10NhoI8"
      },
      "outputs": [],
      "execution_count": null
    },
    {
      "cell_type": "code",
      "source": [
        "final_df.to_csv(\"30_risk_factors_s&p_500.csv\", index=False)"
      ],
      "metadata": {
        "trusted": true,
        "id": "14JfrX-vhoI-"
      },
      "outputs": [],
      "execution_count": null
    }
  ]
}